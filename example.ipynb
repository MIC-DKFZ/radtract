{
 "cells": [
  {
   "cell_type": "markdown",
   "metadata": {},
   "source": [
    "# RadTract example pipeline\n",
    "\n",
    "This notebook will show you how to use RadTract to calculate radiomics tractometry features. The used data can be found in resources/example/ in this repository. Make sure to install RadTract before running this notebook: `pip install radtract`.\n",
    "\n",
    "To run RadTract on a single subject, you need at least the following items:\n",
    "\n",
    "1. A tractogram, i.e., a collection of streamlines, for the tract you are interested in (here `resources/example/CST_right.trk`). \n",
    "2. The image you want to calculate features from, for example a fractional anisotropy (FA) map (here `resources/example/fa.nii.gz`).\n",
    "\n",
    "The code below is the tl;dr version of how to use these items to calculate your tract-specific features. Keep in mind to read the longer example below before using RadTract for a multi-subject study!"
   ]
  },
  {
   "cell_type": "code",
   "execution_count": 1,
   "metadata": {},
   "outputs": [
    {
     "name": "stdout",
     "output_type": "stream",
     "text": [
      "Creating binary envelope from reference image\n",
      "Calculating bundle envelope\n",
      "done\n",
      "Input number of fibers: 14026\n",
      "Estimating number of possible parcels for on average 5 traversed voxels per parcel.\n",
      "Number of estimated parcels 10\n",
      "Creating local reference centroid\n",
      "Reorienting streamlines...\n",
      "Reducing input bundle\n",
      "Reduced number of fibers: 522\n",
      "Fitting parcellation model to 5220 points\n",
      "Predicting hyperplane-parcellation for 2973 voxels\n",
      "Finished hyperplane-based parcellation\n",
      "Saving hyperplane-based parcellation to resources/example/CST_right_parcellation.nii.gz\n"
     ]
    }
   ],
   "source": [
    "# parcellate tract\n",
    "!radtract_parcellate --streamlines resources/example/CST_right.trk --reference resources/example/fa.nii.gz --output resources/example/CST_right_parcellation.nii.gz\n",
    "\n",
    "# claculate features using this parcellation\n",
    "!radtract_features --parcellation resources/example/CST_right_parcellation.nii.gz --map resources/example/fa.nii.gz --output resources/example/CST_right_features.csv"
   ]
  },
  {
   "cell_type": "markdown",
   "metadata": {},
   "source": [
    "## Tract Parcellation\n",
    "\n",
    "The above example uses default parameters and might not be optimal for your usecase. For example, the automatically estimated number of parcels might vary between subjects, thus rendering them incompatible for a future joint statistical analysis or machine learning experiment. To avoid this, it is possible to manually set the number of parcel (`--num_parcels`). \n",
    "\n",
    "Also, when processing multiple subjects, it is recommended to define the start of the tract using a binary segmentation (`--start`). If this is not done, it might happen that the same tract in a different subject might be reversed.\n",
    "\n",
    "RadTract further offers multiple types (`--type`) of parcellations, namely hyperplane (default), centerline and static and the parcellation can happen in voxel-space (default) or in streamline-space (classic tractometry, option `--streamline_space True`). \n",
    "\n",
    "Here you go with a full list of the available command line options (more available via the python interface):"
   ]
  },
  {
   "cell_type": "code",
   "execution_count": 2,
   "metadata": {},
   "outputs": [
    {
     "name": "stdout",
     "output_type": "stream",
     "text": [
      "usage: radtract_parcellate [-h] [--streamlines STREAMLINES]\n",
      "                           [--envelope ENVELOPE] [--reference REFERENCE]\n",
      "                           [--start START] [--num_parcels NUM_PARCELS]\n",
      "                           [--type TYPE] [--save_intermediate_files]\n",
      "                           [--streamline_space] [--output OUTPUT]\n",
      "\n",
      "RadTract Tract Parcellation\n",
      "\n",
      "options:\n",
      "  -h, --help            show this help message and exit\n",
      "  --streamlines STREAMLINES\n",
      "                        Input streamline file (.trk)\n",
      "  --envelope ENVELOPE   Input streamline envelope file. The envelope defines\n",
      "                        the area of the parcellation. If no envelope is set,\n",
      "                        the envelope is automatically calculated using\n",
      "                        --reference or --start as reference image. Either the\n",
      "                        start region, the reference image or the actual\n",
      "                        envelope needs to be provided.\n",
      "  --reference REFERENCE\n",
      "                        Reference image used to automatically calulate binary\n",
      "                        envelope if the envelope is not set. If reference is\n",
      "                        not set, but --start is specified, the start region is\n",
      "                        used as reference image for the envelope calculation.\n",
      "  --start START         Input binary start region file. Use this to define the\n",
      "                        start of the tract, in order to avoid reversed parcel\n",
      "                        ordering between the same tract in different subjects.\n",
      "  --num_parcels NUM_PARCELS\n",
      "                        Number of parcels (default is an automatic estimation\n",
      "                        to obtain parcels of ~5 voxels thickness). In multy\n",
      "                        subject studies, set this to a fixed value to avoid\n",
      "                        different numbers of parcels between subjects.\n",
      "  --type TYPE           Type of parcellation ('hyperplane', 'centerline', or\n",
      "                        'static')\n",
      "  --save_intermediate_files\n",
      "                        Save intermediate files (envelope, colored\n",
      "                        streamlines, ...)\n",
      "  --streamline_space    If True, no voxel-space parcellation will be created\n",
      "                        but each streamline point will be assigned a label.\n",
      "                        The output is a pickled dict with keys 'points' and\n",
      "                        'parcels', usable for classic tractometry (see\n",
      "                        features.py or radtract_features command).\n",
      "  --output OUTPUT       Output parcellation image file\n"
     ]
    }
   ],
   "source": [
    "!radtract_parcellate"
   ]
  },
  {
   "cell_type": "markdown",
   "metadata": {},
   "source": [
    "In Figure 1, the different types of parcellations are illustrated. Below you will find the corresponding commands used to create these results.\n",
    "\n",
    "![](resources/parcellations_overview.png)\n",
    "\n",
    "Figure 1: Hyperplane-based parcellations of the right CST are visualized in voxel- (a) and streamline-space (c). (b) and (d) show the corresponding centerline-based parcellations. The static parcellation is only vaid in streamline-space, since it parcellates each streamline individually (e)."
   ]
  },
  {
   "cell_type": "code",
   "execution_count": 27,
   "metadata": {},
   "outputs": [
    {
     "name": "stderr",
     "output_type": "stream",
     "text": [
      "2059.08s - pydevd: Sending message related to process being replaced timed-out after 5 seconds\n"
     ]
    },
    {
     "name": "stdout",
     "output_type": "stream",
     "text": [
      "Creating binary envelope from reference image\n",
      "Calculating bundle envelope\n",
      "done\n",
      "Input number of fibers: 14026\n",
      "Creating local reference centroid\n",
      "Reorienting streamlines...\n",
      "Reducing input bundle\n",
      "Reduced number of fibers: 695\n",
      "Fitting parcellation model to 10425 points\n",
      "Predicting hyperplane-parcellation for 2973 voxels\n",
      "Finished hyperplane-based parcellation\n",
      "Saving hyperplane-based parcellation to resources/example/CST_left_parcellation_hyperplane.nii.gz\n"
     ]
    },
    {
     "name": "stderr",
     "output_type": "stream",
     "text": [
      "2094.04s - pydevd: Sending message related to process being replaced timed-out after 5 seconds\n"
     ]
    },
    {
     "name": "stdout",
     "output_type": "stream",
     "text": [
      "Creating binary envelope from reference image\n",
      "Calculating bundle envelope\n",
      "done\n",
      "Input number of fibers: 14026\n",
      "Creating local reference centroid\n",
      "Reorienting streamlines...\n",
      "Creating centerline-based parcellation\n",
      "Finished centerline-based parcellation\n",
      "Saving centerline-based parcellation to resources/example/CST_left_parcellation_centerline.nii.gz\n"
     ]
    },
    {
     "name": "stderr",
     "output_type": "stream",
     "text": [
      "2124.46s - pydevd: Sending message related to process being replaced timed-out after 5 seconds\n"
     ]
    },
    {
     "name": "stdout",
     "output_type": "stream",
     "text": [
      "Creating binary envelope from reference image\n",
      "Calculating bundle envelope\n",
      "done\n",
      "Input number of fibers: 14026\n",
      "Creating local reference centroid\n",
      "Reorienting streamlines...\n",
      "Reducing input bundle\n",
      "Reduced number of fibers: 695\n",
      "Fitting parcellation model to 10425 points\n",
      "Predicting hyperplane-parcellation for 793529 streamline points using 23 cores\n",
      "Finished hyperplane-based parcellation\n"
     ]
    },
    {
     "name": "stderr",
     "output_type": "stream",
     "text": [
      "2180.94s - pydevd: Sending message related to process being replaced timed-out after 5 seconds\n"
     ]
    },
    {
     "name": "stdout",
     "output_type": "stream",
     "text": [
      "Creating binary envelope from reference image\n",
      "Calculating bundle envelope\n",
      "done\n",
      "Input number of fibers: 14026\n",
      "Creating local reference centroid\n",
      "Reorienting streamlines...\n",
      "Creating centerline-based parcellation\n",
      "Finished centerline-based parcellation\n"
     ]
    },
    {
     "name": "stderr",
     "output_type": "stream",
     "text": [
      "2208.78s - pydevd: Sending message related to process being replaced timed-out after 5 seconds\n"
     ]
    },
    {
     "name": "stdout",
     "output_type": "stream",
     "text": [
      "Creating binary envelope from reference image\n",
      "Calculating bundle envelope\n",
      "done\n",
      "Input number of fibers: 14026\n",
      "Creating local reference centroid\n",
      "Reorienting streamlines...\n",
      "Creating static resampling-based parcellation\n"
     ]
    }
   ],
   "source": [
    "# # Figure 1 (a)\n",
    "!radtract_parcellate --type hyperplane --output resources/example/CST_left_parcellation_hyperplane.nii.gz --num_parcels 15 --save_intermediate_files --streamlines resources/example/CST_right.trk --reference resources/example/fa.nii.gz\n",
    "\n",
    "# # Figure 1 (b)\n",
    "!radtract_parcellate --type centerline --output resources/example/CST_left_parcellation_centerline.nii.gz --num_parcels 15 --save_intermediate_files --streamlines resources/example/CST_right.trk --reference resources/example/fa.nii.gz\n",
    "\n",
    "# # Figure 1 (c)\n",
    "!radtract_parcellate --type hyperplane --streamline_space --output resources/example/CST_left_streamline-parcellation_hyperplane.nii.gz --num_parcels 15 --save_intermediate_files --streamlines resources/example/CST_right.trk --reference resources/example/fa.nii.gz\n",
    "\n",
    "# # Figure 1 (d)\n",
    "!radtract_parcellate --type centerline --streamline_space --output resources/example/CST_left_streamline-parcellation_centerline.nii.gz --num_parcels 15 --save_intermediate_files --streamlines resources/example/CST_right.trk --reference resources/example/fa.nii.gz\n",
    "\n",
    "# Figure 1 (e)\n",
    "!radtract_parcellate --type static --output resources/example/CST_left_streamline-parcellation_static.nii.gz --num_parcels 15 --save_intermediate_files --streamlines resources/example/CST_right.trk --reference resources/example/fa.nii.gz"
   ]
  },
  {
   "cell_type": "markdown",
   "metadata": {},
   "source": [
    "To estimate the number of parcels without actually parcellating, the RadTract python interface can be used in the following way."
   ]
  },
  {
   "cell_type": "code",
   "execution_count": 7,
   "metadata": {},
   "outputs": [
    {
     "name": "stdout",
     "output_type": "stream",
     "text": [
      "Estimating number of possible parcels for on average 3 traversed voxels per parcel.\n",
      "Number of estimated parcels 17\n"
     ]
    }
   ],
   "source": [
    "from radtract.parcellation import estimate_num_parcels\n",
    "from radtract.utils import load_trk_streamlines\n",
    "import nibabel as nib\n",
    "\n",
    "streamlines = load_trk_streamlines('resources/example/CST_right.trk')\n",
    "image = nib.load('resources/example/fa.nii.gz')\n",
    "\n",
    "n = estimate_num_parcels(streamlines, reference_image=image, num_voxels=3)"
   ]
  },
  {
   "cell_type": "markdown",
   "metadata": {},
   "source": [
    "## Feature calculation\n",
    "\n",
    "The actual feature calculation is pretty straight forward and the tl;dr example above works perfectly well for FA maps. For other maps, e.g., ADC, it might be neccessary to adjust the pyradiomics parameter file, particularly the parameter `binWidt`. Check out the available .yaml parameter files in `radtract/`. For details, please check out the pyradiomics documentation https://pyradiomics.readthedocs.io/en/latest/ "
   ]
  },
  {
   "cell_type": "code",
   "execution_count": 17,
   "metadata": {},
   "outputs": [
    {
     "name": "stdout",
     "output_type": "stream",
     "text": [
      "usage: radtract_features [-h] [--parcellation PARCELLATION] [--map MAP]\n",
      "                         [--pyrad_params PYRAD_PARAMS] [--output OUTPUT]\n",
      "\n",
      "RadTract Feature Calculation\n",
      "\n",
      "options:\n",
      "  -h, --help            show this help message and exit\n",
      "  --parcellation PARCELLATION\n",
      "                        Input parcellation file\n",
      "  --map MAP             Parameter map file (e.g. fractional anisotropy)\n",
      "  --pyrad_params PYRAD_PARAMS\n",
      "                        Pyradiomics parameter file (e.g. pyrad.yaml)\n",
      "  --output OUTPUT       Output feature file (.csv)\n"
     ]
    }
   ],
   "source": [
    "!radtract_features\n"
   ]
  },
  {
   "cell_type": "markdown",
   "metadata": {},
   "source": [
    "## How to get the tracts/streamlines and start-region-images in the first place\n",
    "\n",
    "You can obtain tractograms/streamlines of individual tracts with various software tools, e.g. MRtrix or MITK Diffusion. Since it is easy to use and fully automatic, we recommend TractSeg (https://github.com/MIC-DKFZ/TractSeg/) for larger studies. Simply install TractSeg via `pip install tractseg` and make sure pytorch is also installed (`pip install torch`)."
   ]
  },
  {
   "cell_type": "code",
   "execution_count": 17,
   "metadata": {},
   "outputs": [
    {
     "name": "stdout",
     "output_type": "stream",
     "text": [
      "Creating brain mask...\n",
      "Warning: An input intended to be a single 3D volume has multiple timepoints. Input will be truncated to first volume, but this functionality is deprecated and will be removed in a future release.\n",
      "Creating peaks (1 of 3)...\n",
      "Creating peaks (2 of 3)...\n",
      "Creating peaks (3 of 3)...\n",
      "Loading weights from: /home/neher/.tractseg/pretrained_weights_tract_segmentation_v3.npz\n",
      "Processing direction (1 of 3)\n",
      "100%|████████████████████████████████████████| 144/144 [00:01<00:00, 113.79it/s]\n",
      "Processing direction (2 of 3)\n",
      "100%|████████████████████████████████████████| 144/144 [00:01<00:00, 141.74it/s]\n",
      "Processing direction (3 of 3)\n",
      "100%|████████████████████████████████████████| 144/144 [00:01<00:00, 140.90it/s]\n",
      "Loading weights from: /home/neher/.tractseg/pretrained_weights_endings_segmentation_v4.npz\n",
      "Processing direction (1 of 3)\n",
      "100%|█████████████████████████████████████████| 144/144 [00:01<00:00, 89.83it/s]\n",
      "Processing direction (2 of 3)\n",
      "100%|████████████████████████████████████████| 144/144 [00:01<00:00, 102.48it/s]\n",
      "Processing direction (3 of 3)\n",
      "100%|████████████████████████████████████████| 144/144 [00:01<00:00, 105.85it/s]\n",
      "Loading weights from: /home/neher/.tractseg/pretrained_weights_peak_regression_part1_v2.npz\n",
      "100%|████████████████████████████████████████| 144/144 [00:01<00:00, 126.14it/s]\n",
      "Loading weights from: /home/neher/.tractseg/pretrained_weights_peak_regression_part2_v2.npz\n",
      "100%|████████████████████████████████████████| 144/144 [00:00<00:00, 152.62it/s]\n",
      "Loading weights from: /home/neher/.tractseg/pretrained_weights_peak_regression_part3_v2.npz\n",
      "100%|████████████████████████████████████████| 144/144 [00:00<00:00, 151.55it/s]\n",
      "Loading weights from: /home/neher/.tractseg/pretrained_weights_peak_regression_part4_v2.npz\n",
      "100%|████████████████████████████████████████| 144/144 [00:00<00:00, 151.00it/s]\n",
      "100%|█████████████████████████████████████████████| 1/1 [00:05<00:00,  5.70s/it]\n"
     ]
    }
   ],
   "source": [
    "# segment 72 tracts in the input dwi\n",
    "!TractSeg -i resources/example/dwi.nii.gz --raw_diffusion_input --keep_intermediate_files\n",
    "\n",
    "# segment start- and end-regions of all tracts. these are required for the following tractography as well as for the parcellation\n",
    "!TractSeg -i resources/example/tractseg_output/peaks.nii.gz --output_type endings_segmentation -o resources/example/tractseg_output/ --keep_intermediate_files\n",
    "\n",
    "# create tract orientation maps (TOM) for tractography \n",
    "!TractSeg -i resources/example/tractseg_output/peaks.nii.gz --output_type TOM -o resources/example/tractseg_output/ --keep_intermediate_files\n",
    "\n",
    "# run tractography (here only of the corpus callosum). we use more streamlines (10000) than the defaul to obtain a better tract coverage.\n",
    "!Tracking -i resources/example/tractseg_output/peaks.nii.gz --tracking_format trk --nr_fibers 10000 -o resources/example/tractseg_output/ --bundles CC"
   ]
  }
 ],
 "metadata": {
  "kernelspec": {
   "display_name": "radtract",
   "language": "python",
   "name": "python3"
  },
  "language_info": {
   "codemirror_mode": {
    "name": "ipython",
    "version": 3
   },
   "file_extension": ".py",
   "mimetype": "text/x-python",
   "name": "python",
   "nbconvert_exporter": "python",
   "pygments_lexer": "ipython3",
   "version": "3.10.12"
  },
  "orig_nbformat": 4
 },
 "nbformat": 4,
 "nbformat_minor": 2
}
