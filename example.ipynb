{
 "cells": [
  {
   "cell_type": "markdown",
   "metadata": {},
   "source": [
    "# RadTract example pipeline\n",
    "\n",
    "This notebook will show you how to use RadTract to calculate radiomics tractometry features. You can download the sample data used in this example here: https://doi.org/10.5281/zenodo.4139626.\n",
    "\n",
    "To run RadTract on a single subject, you need at least the following items:\n",
    "\n",
    "1. A tractogram, i.e., a collection of streamlines, for the tract you are interested in. \n",
    "2. The image you want to calculate features from, for example a fractional anisotropy (FA) map.\n",
    "\n",
    "The code below is the tl;dr version of how to use these items to calculate your tract-specific features. Keep in mind to read the longer example below before using RadTract for a multi-subject study!"
   ]
  },
  {
   "cell_type": "code",
   "execution_count": 17,
   "metadata": {},
   "outputs": [
    {
     "name": "stdout",
     "output_type": "stream",
     "text": [
      "Creating binary envelope from reference image\n",
      "Calculating bundle envelope\n",
      "done\n",
      "Input number of fibers: 14026\n",
      "Estimating number of possible parcels for on average 5 traversed voxels per parcel.\n",
      "Number of estimated parcels 10\n",
      "Creating local reference centroid\n",
      "Reorienting streamlines...\n",
      "Reducing input bundle\n",
      "Reduced number of fibers: 522\n",
      "Fitting parcellation model to 5220 points\n",
      "Predicting hyperplane-parcellation for 2973 voxels\n",
      "Finished hyperplane-based parcellation\n",
      "Saving hyperplane-based parcellation to /home/neher/Downloads/RadTract_Example/CST_right_parcellation.nii.gz\n",
      "Pyradiomics settings: {'minimumROIDimensions': 2, 'minimumROISize': None, 'normalize': False, 'normalizeScale': 0.5, 'removeOutliers': None, 'resampledPixelSpacing': None, 'interpolator': 'sitkBSpline', 'preCrop': False, 'padDistance': 5, 'distances': [1], 'force2D': False, 'force2Ddimension': 0, 'resegmentRange': None, 'label': 1, 'additionalInfo': True, 'correctMask': True, 'binWidth': 0.02}\n",
      "Enabled image types: {'Original': {}, 'LoG': {'sigma': [1.0, 3.0, 5.0]}, 'Wavelet': {}}\n",
      "Enables features: {'shape': None, 'firstorder': None, 'glcm': ['Autocorrelation', 'JointAverage', 'ClusterProminence', 'ClusterShade', 'ClusterTendency', 'Contrast', 'Correlation', 'DifferenceAverage', 'DifferenceEntropy', 'DifferenceVariance', 'JointEnergy', 'JointEntropy', 'Imc1', 'Imc2', 'Idm', 'Idmn', 'Id', 'Idn', 'InverseVariance', 'MaximumProbability', 'SumEntropy', 'SumSquares'], 'glrlm': None, 'glszm': None, 'gldm': None, 'ngtdm': None}\n",
      "Checking map ...\n",
      "Map range:  1.2247449\n",
      "Robust map range (99 percentile):  1.2041190450452268\n",
      "Bin width:  0.02\n",
      "Number of bins:  61.23724579811096\n",
      "Map range is OK:  1.2247449\n",
      "Found labels [ 0  1  2  3  4  5  6  7  8  9 10]\n",
      "pyradiomics generating global tract features\n",
      "pyradiomics formatting results ...\n",
      "pyradiomics processing label 1\n",
      "pyradiomics formatting results ...\n",
      "pyradiomics processing label 2\n",
      "pyradiomics formatting results ...\n",
      "pyradiomics processing label 3\n",
      "pyradiomics formatting results ...\n",
      "pyradiomics processing label 4\n",
      "pyradiomics formatting results ...\n",
      "pyradiomics processing label 5\n",
      "pyradiomics formatting results ...\n",
      "pyradiomics processing label 6\n",
      "pyradiomics formatting results ...\n",
      "pyradiomics processing label 7\n",
      "pyradiomics formatting results ...\n",
      "pyradiomics processing label 8\n",
      "pyradiomics formatting results ...\n",
      "pyradiomics processing label 9\n",
      "pyradiomics formatting results ...\n",
      "pyradiomics processing label 10\n",
      "pyradiomics formatting results ...\n",
      "pyradiomics saving results ...\n",
      "pyradiomics finished processing\n"
     ]
    }
   ],
   "source": [
    "!radtract_parcellate --streamlines /home/neher/Downloads/RadTract_Example/CST_right.trk --reference /home/neher/Downloads/RadTract_Example/fa.nii.gz --output /home/neher/Downloads/RadTract_Example/CST_right_parcellation.nii.gz\n",
    "!radtract_features --parcellation /home/neher/Downloads/RadTract_Example/CST_right_parcellation.nii.gz --map /home/neher/Downloads/RadTract_Example/fa.nii.gz --output /home/neher/Downloads/RadTract_Example/CST_right_features.csv"
   ]
  },
  {
   "cell_type": "markdown",
   "metadata": {},
   "source": [
    "The above example uses default parameters and might not be optimal for your usecase. For example, the automatically estimated number of parcels might vary between subjects, thus rendering them incompatible for a future joint statistical analysis or machine learning experiment. To avoid this, it is possible to manually set the number of parcel (`--num_parcels`).\n",
    "\n",
    "RadTract further offers multiple types of parcellations, namely hyperplane (default), centerline and static.\n",
    "\n",
    "\n"
   ]
  },
  {
   "cell_type": "code",
   "execution_count": 18,
   "metadata": {},
   "outputs": [
    {
     "name": "stdout",
     "output_type": "stream",
     "text": [
      "usage: radtract_parcellate [-h] [--streamlines STREAMLINES]\n",
      "                           [--envelope ENVELOPE] [--reference REFERENCE]\n",
      "                           [--start START] [--num_parcels NUM_PARCELS]\n",
      "                           [--type TYPE]\n",
      "                           [--save_intermediate_files SAVE_INTERMEDIATE_FILES]\n",
      "                           [--streamline_space STREAMLINE_SPACE]\n",
      "                           [--output OUTPUT]\n",
      "\n",
      "RadTract Tract Parcellation\n",
      "\n",
      "options:\n",
      "  -h, --help            show this help message and exit\n",
      "  --streamlines STREAMLINES\n",
      "                        Input streamline file\n",
      "  --envelope ENVELOPE   Input streamline envelope file\n",
      "  --reference REFERENCE\n",
      "                        Reference image used to automatically calulate binary\n",
      "                        envelope if the envelope is not set. If reference is\n",
      "                        not set, but start is set, start is used as reference\n",
      "                        image for the envelope calculation.\n",
      "  --start START         Input binary start region file\n",
      "  --num_parcels NUM_PARCELS\n",
      "                        Number of parcels (0 for automatic estimation)\n",
      "  --type TYPE           type of parcellation ('hyperplane', 'centerline', or\n",
      "                        'static')\n",
      "  --save_intermediate_files SAVE_INTERMEDIATE_FILES\n",
      "                        Save intermediate files\n",
      "  --streamline_space STREAMLINE_SPACE\n",
      "                        If True, no voxel-space parcellation will be created\n",
      "                        but each streamline point will be assigned a label.\n",
      "  --output OUTPUT       Output parcellation image file\n"
     ]
    }
   ],
   "source": [
    "!radtract_parcellate"
   ]
  },
  {
   "cell_type": "markdown",
   "metadata": {},
   "source": [
    "\n",
    "\n",
    "\n",
    "\n",
    "You can obtain such a tractogram with various software tools, e.g. MRtrix or MITK Diffusion. Since it is easy to use and fully automatic, we use TractSeg in our example.  \n"
   ]
  }
 ],
 "metadata": {
  "kernelspec": {
   "display_name": "radtract",
   "language": "python",
   "name": "python3"
  },
  "language_info": {
   "codemirror_mode": {
    "name": "ipython",
    "version": 3
   },
   "file_extension": ".py",
   "mimetype": "text/x-python",
   "name": "python",
   "nbconvert_exporter": "python",
   "pygments_lexer": "ipython3",
   "version": "3.10.12"
  },
  "orig_nbformat": 4
 },
 "nbformat": 4,
 "nbformat_minor": 2
}
