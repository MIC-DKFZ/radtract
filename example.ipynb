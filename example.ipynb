{
 "cells": [
  {
   "cell_type": "markdown",
   "metadata": {},
   "source": [
    "# RadTract example pipeline\n",
    "\n",
    "This notebook will show you how to use RadTract to calculate radiomics tractometry features. The used data can be found in resources/example/ in this repository. Make sure to install RadTract before running this notebook: `pip install radtract`.\n",
    "\n",
    "To run RadTract on a single subject, you need at least the following items:\n",
    "\n",
    "1. A tractogram, i.e., a collection of streamlines, for the tract you are interested in (here `resources/example/CST_right.trk`). \n",
    "2. The image you want to calculate features from, for example a fractional anisotropy (FA) map (here `resources/example/fa.nii.gz`).\n",
    "\n",
    "The code below is the tl;dr version of how to use these items to calculate your tract-specific features. Keep in mind to read the longer example below before using RadTract for a multi-subject study!"
   ]
  },
  {
   "cell_type": "code",
   "execution_count": null,
   "metadata": {},
   "outputs": [],
   "source": [
    "# parcellate tract\n",
    "!radtract_parcellate --streamlines resources/example/CST_right.trk --reference resources/example/fa.nii.gz --output resources/example/CST_right_parcellation.nii.gz\n",
    "\n",
    "# claculate features using this parcellation\n",
    "!radtract_features --parcellation resources/example/CST_right_parcellation.nii.gz --map resources/example/fa.nii.gz --output resources/example/CST_right_features.csv"
   ]
  },
  {
   "cell_type": "markdown",
   "metadata": {},
   "source": [
    "## Tract Parcellation\n",
    "\n",
    "The above example uses default parameters and might not be optimal for your usecase. For example, the automatically estimated number of parcels might vary between subjects, thus rendering them incompatible for a future joint statistical analysis or machine learning experiment. To avoid this, it is possible to manually set the number of parcel (`--num_parcels`). \n",
    "\n",
    "Also, when processing multiple subjects, it is recommended to define the start of the tract using a binary segmentation (`--start`). If this is not done, it might happen that the same tract in a different subject might be reversed.\n",
    "\n",
    "RadTract further offers multiple types (`--type`) of parcellations, namely hyperplane (default), centerline and static and the parcellation can happen in voxel-space (default) or in streamline-space (classic tractometry, option `--streamline_space True`). \n",
    "\n",
    "Here you go with a full list of the available command line options (more available via the python interface):"
   ]
  },
  {
   "cell_type": "code",
   "execution_count": null,
   "metadata": {},
   "outputs": [],
   "source": [
    "!radtract_parcellate"
   ]
  },
  {
   "cell_type": "markdown",
   "metadata": {},
   "source": [
    "In Figure 1, the different types of parcellations are illustrated. Below you will find the corresponding commands used to create these results.\n",
    "\n",
    "![](resources/parcellations_overview.png)\n",
    "\n",
    "Figure 1: Hyperplane-based parcellations of the right CST are visualized in voxel- (a) and streamline-space (c). (b) and (d) show the corresponding centerline-based parcellations. The static parcellation is only vaid in streamline-space, since it parcellates each streamline individually (e)."
   ]
  },
  {
   "cell_type": "code",
   "execution_count": 18,
   "metadata": {},
   "outputs": [],
   "source": [
    "# # Figure 1 (a)\n",
    "!radtract_parcellate --type hyperplane --output resources/example/CST_left_parcellation_hyperplane.nii.gz --num_parcels 15 --save_intermediate_files --streamlines resources/example/CST_right.trk --reference resources/example/fa.nii.gz\n",
    "\n",
    "# # Figure 1 (b)\n",
    "!radtract_parcellate --type centerline --output resources/example/CST_left_parcellation_centerline.nii.gz --num_parcels 15 --save_intermediate_files --streamlines resources/example/CST_right.trk --reference resources/example/fa.nii.gz\n",
    "\n",
    "# # Figure 1 (c)\n",
    "!radtract_parcellate --type hyperplane --streamline_space --output resources/example/CST_left_streamline-parcellation_hyperplane.nii.gz --num_parcels 15 --save_intermediate_files --streamlines resources/example/CST_right.trk --reference resources/example/fa.nii.gz\n",
    "\n",
    "# # Figure 1 (d)\n",
    "!radtract_parcellate --type centerline --streamline_space --output resources/example/CST_left_streamline-parcellation_centerline.nii.gz --num_parcels 15 --save_intermediate_files --streamlines resources/example/CST_right.trk --reference resources/example/fa.nii.gz\n",
    "\n",
    "# Figure 1 (e)\n",
    "!radtract_parcellate --type static --output resources/example/CST_left_streamline-parcellation_static.nii.gz --num_parcels 15 --save_intermediate_files --streamlines resources/example/CST_right.trk --reference resources/example/fa.nii.gz"
   ]
  },
  {
   "cell_type": "markdown",
   "metadata": {},
   "source": [
    "## Feature calculation\n",
    "\n",
    "The actual feature calculation is pretty straight forward and the tl;dr example above works perfectly well for FA maps. For other maps, e.g., ADC, it might be neccessary to adjust the pyradiomics parameter file, particularly the parameter `binWidt`. Check out the available .yaml parameter files in `radtract/`. For details, please check out the pyradiomics documentation https://pyradiomics.readthedocs.io/en/latest/ "
   ]
  },
  {
   "cell_type": "code",
   "execution_count": 17,
   "metadata": {},
   "outputs": [
    {
     "name": "stdout",
     "output_type": "stream",
     "text": [
      "usage: radtract_features [-h] [--parcellation PARCELLATION] [--map MAP]\n",
      "                         [--pyrad_params PYRAD_PARAMS] [--output OUTPUT]\n",
      "\n",
      "RadTract Feature Calculation\n",
      "\n",
      "options:\n",
      "  -h, --help            show this help message and exit\n",
      "  --parcellation PARCELLATION\n",
      "                        Input parcellation file\n",
      "  --map MAP             Parameter map file (e.g. fractional anisotropy)\n",
      "  --pyrad_params PYRAD_PARAMS\n",
      "                        Pyradiomics parameter file (e.g. pyrad.yaml)\n",
      "  --output OUTPUT       Output feature file (.csv)\n"
     ]
    }
   ],
   "source": [
    "!radtract_features\n"
   ]
  },
  {
   "cell_type": "markdown",
   "metadata": {},
   "source": [
    "## How to get the tracts/streamlines and start-region-images in the first place\n",
    "\n",
    "You can obtain tractograms/streamlines of individual tracts with various software tools, e.g. MRtrix or MITK Diffusion. Since it is easy to use and fully automatic, we recommend TractSeg (https://github.com/MIC-DKFZ/TractSeg/) for larger studies. Simply install TractSeg via `pip install tractseg` and make sure pytorch is also installed (`pip install torch`)."
   ]
  },
  {
   "cell_type": "code",
   "execution_count": null,
   "metadata": {},
   "outputs": [],
   "source": [
    "# segment 72 tracts in the input dwi\n",
    "!TractSeg -i resources/example/dwi.nii.gz --raw_diffusion_input --keep_intermediate_files\n",
    "\n",
    "# segment start- and end-regions of all tracts. these are required for the following tractography as well as for the parcellation\n",
    "!TractSeg -i resources/example/tractseg_output/peaks.nii.gz --output_type endings_segmentation\n",
    "\n",
    "# create tract orientation maps (TOM) for tractography \n",
    "!TractSeg -i resources/example/tractseg_output/peaks.nii.gz --output_type TOM\n",
    "\n",
    "# run tractography of all tracts. we use more streamlines (10000) than the defaul to obtain a better tract coverage.\n",
    "!Tracking -i resources/example/tractseg_output/peaks.nii.gz --tracking_format trk -nr_fibers 10000"
   ]
  }
 ],
 "metadata": {
  "kernelspec": {
   "display_name": "radtract",
   "language": "python",
   "name": "python3"
  },
  "language_info": {
   "codemirror_mode": {
    "name": "ipython",
    "version": 3
   },
   "file_extension": ".py",
   "mimetype": "text/x-python",
   "name": "python",
   "nbconvert_exporter": "python",
   "pygments_lexer": "ipython3",
   "version": "3.10.12"
  },
  "orig_nbformat": 4
 },
 "nbformat": 4,
 "nbformat_minor": 2
}
